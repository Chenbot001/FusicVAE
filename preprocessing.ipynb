{
 "cells": [
  {
   "cell_type": "markdown",
   "metadata": {},
   "source": [
    "## ECE176 Final Project - Audio Preprocessing"
   ]
  },
  {
   "cell_type": "code",
   "execution_count": null,
   "metadata": {},
   "outputs": [],
   "source": [
    "import os\n",
    "import librosa\n",
    "import numpy as np"
   ]
  },
  {
   "cell_type": "markdown",
   "metadata": {},
   "source": [
    "#### Convert to MelSpec"
   ]
  },
  {
   "cell_type": "code",
   "execution_count": null,
   "metadata": {},
   "outputs": [],
   "source": [
    "def process_mp3_file(mp3_path, target_folder, segment_len_ms=15000, overlap_ms=5000, sr=44100):\n",
    "    y, sr = librosa.load(mp3_path, sr=sr)\n",
    "    \n",
    "    # Convert milliseconds to samples\n",
    "    segment_len_samples = int(sr * segment_len_ms / 1000)\n",
    "    overlap_samples = int(sr * overlap_ms / 1000)\n",
    "    step_size_samples = segment_len_samples - overlap_samples\n",
    "    \n",
    "    # Calculate the number of segments\n",
    "    num_segments = 1 + (len(y) - segment_len_samples) // step_size_samples\n",
    "    \n",
    "    for i in range(num_segments):\n",
    "        start_samples = i * step_size_samples\n",
    "        end_samples = start_samples + segment_len_samples\n",
    "        \n",
    "        # Ensure we don't go beyond the file length\n",
    "        if end_samples > len(y):\n",
    "            break\n",
    "        \n",
    "        segment = y[start_samples:end_samples]\n",
    "        \n",
    "        # Convert to Mel spectrogram\n",
    "        S = librosa.feature.melspectrogram(y=segment, sr=44100, n_mels=256)       \n",
    "        \n",
    "        # Save as a numpy array file\n",
    "        base_name = os.path.splitext(os.path.basename(mp3_path))[0]\n",
    "        target_file_name = f\"{base_name}_segment_{i+1}.npy\"\n",
    "        target_file_path = os.path.join(target_folder, target_file_name)\n",
    "        \n",
    "        np.save(target_file_path, S)"
   ]
  },
  {
   "cell_type": "code",
   "execution_count": null,
   "metadata": {},
   "outputs": [],
   "source": [
    "#convert to melspec\n",
    "if __name__ == \"__main__\":\n",
    "    audio_folder = 'C:/Eric/UCSD/ECE/ECE176_Final/dataset/'\n",
    "    spec_folder = 'C:/Eric/UCSD/ECE/ECE176_Final/dataset/'\n",
    "\n",
    "    # Ensure target folder exists\n",
    "    if not os.path.exists(audio_folder):\n",
    "        os.makedirs(audio_folder)\n",
    "    elif not os.path.exists(spec_folder):\n",
    "        os.makedirs(spec_folder)\n",
    "        \n",
    "    for file_name in os.listdir(audio_folder):\n",
    "        if file_name.endswith(\".mp3\"):\n",
    "            mp3_path = '{}/{}'.format(audio_folder, file_name)\n",
    "            process_mp3_file(mp3_path, spec_folder)\n",
    "            print(f\"Processed {file_name}\")"
   ]
  },
  {
   "cell_type": "code",
   "execution_count": null,
   "metadata": {},
   "outputs": [],
   "source": [
    "#random inspection\n",
    "from IPython.display import Audio\n",
    "import matplotlib.pyplot as plt\n",
    "\n",
    "import random\n",
    "def random_sample(directory_path):\n",
    "    files = [f for f in os.listdir(directory_path) if f.endswith('.npy')]\n",
    "    random_file = random.choice(files)\n",
    "\n",
    "    mel_spec_path = os.path.join(directory_path, random_file)\n",
    "    mel_spec = np.load(mel_spec_path)\n",
    "    mel_spec_db = librosa.power_to_db(mel_spec, ref=np.max)\n",
    "\n",
    "    # Convert melspec to wave\n",
    "    audio = librosa.feature.inverse.mel_to_audio(mel_spec, sr=44100, n_fft=2048, hop_length=512)\n",
    "\n",
    "    # Plot\n",
    "    plt.figure(figsize=(10, 4))\n",
    "    librosa.display.specshow(mel_spec_db, x_axis='time', y_axis='mel', sr=44100, fmax=8000)\n",
    "    plt.colorbar(format='%+2.0f dB')\n",
    "    plt.title('Mel Spectrogram')\n",
    "    plt.tight_layout()\n",
    "    plt.show()\n",
    "\n",
    "    print(f\"Playing: {random_file}\")\n",
    "    print(f\"MelSpec Dimensions: {mel_spec.shape}\")\n",
    "    return Audio(audio, rate=44100)\n",
    "\n",
    "directory_path = 'C:/Eric/UCSD/ECE/ECE176_Final/dataset/'\n",
    "audio = random_sample(directory_path)\n",
    "audio"
   ]
  },
  {
   "cell_type": "markdown",
   "metadata": {},
   "source": [
    "#### Data Inspection (optional)"
   ]
  },
  {
   "cell_type": "code",
   "execution_count": null,
   "metadata": {},
   "outputs": [],
   "source": [
    "# calculate duration of the dataset\n",
    "import eyed3\n",
    "def get_total_duration(directory):\n",
    "    total_duration = 0.0\n",
    "    for filename in os.listdir(directory):\n",
    "        if filename.endswith(\".mp3\"):\n",
    "            try:\n",
    "                path = os.path.join(directory, filename)\n",
    "                audio = eyed3.load(path)\n",
    "                if audio is not None and audio.info is not None:\n",
    "                    total_duration += audio.info.time_secs\n",
    "            except Exception as e:\n",
    "                print(f\"Error processing {filename}: {e}\")\n",
    "    return total_duration\n",
    "\n",
    "# Replace 'your_directory_path' with the path to your directory containing MP3 files\n",
    "directory_path = 'C:/Eric/UCSD/ECE/ECE176_Final/dataset/pre_training_data/'\n",
    "total_duration_seconds = get_total_duration(directory_path)\n",
    "\n",
    "# Convert seconds to hours, minutes, and seconds\n",
    "hours, remainder = divmod(total_duration_seconds, 3600)\n",
    "minutes, seconds = divmod(remainder, 60)\n",
    "\n",
    "print(f\"Total Duration: {int(hours)} hours, {int(minutes)} minutes, and {int(seconds)} seconds\")"
   ]
  },
  {
   "cell_type": "code",
   "execution_count": null,
   "metadata": {},
   "outputs": [],
   "source": [
    "# for renaming, unifying naming convention, checking invalid values\n",
    "path = 'C:/Eric/UCSD/ECE/ECE176_Final/dataset/hoyo/spectrograms/'\n",
    "\n",
    "files = os.listdir(path)\n",
    "\n",
    "for filename in files:\n",
    "    # construct full file path\n",
    "    file_path = os.path.join(path, filename)\n",
    "    \n",
    "    # load the numpy array\n",
    "    array = np.load(file_path)\n",
    "    \n",
    "    # check if the array contains any NaN values\n",
    "    if np.any(np.isnan(array)):\n",
    "        print(f\"File {filename} contains NaN values\")\n",
    "        # delete the file\n",
    "        #os.remove(file_path)"
   ]
  }
 ],
 "metadata": {
  "kernelspec": {
   "display_name": "coursework",
   "language": "python",
   "name": "python3"
  },
  "language_info": {
   "codemirror_mode": {
    "name": "ipython",
    "version": 3
   },
   "file_extension": ".py",
   "mimetype": "text/x-python",
   "name": "python",
   "nbconvert_exporter": "python",
   "pygments_lexer": "ipython3",
   "version": "3.12.2"
  }
 },
 "nbformat": 4,
 "nbformat_minor": 2
}
